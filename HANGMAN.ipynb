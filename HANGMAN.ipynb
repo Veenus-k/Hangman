{
 "cells": [
  {
   "cell_type": "code",
   "execution_count": 9,
   "id": "b66d47bd",
   "metadata": {},
   "outputs": [
    {
     "data": {
      "text/plain": [
       "'\\n******\\n****o*\\np***o*\\npy**o*\\npyt*o*\\npytho*\\npython\\n'"
      ]
     },
     "execution_count": 9,
     "metadata": {},
     "output_type": "execute_result"
    }
   ],
   "source": [
    "'''\n",
    "******\n",
    "****o*\n",
    "p***o*\n",
    "py**o*\n",
    "pyt*o*\n",
    "pytho*\n",
    "python\n",
    "'''\n"
   ]
  },
  {
   "cell_type": "code",
   "execution_count": null,
   "id": "41aa1b1e",
   "metadata": {},
   "outputs": [],
   "source": [
    "from random import choice"
   ]
  },
  {
   "cell_type": "code",
   "execution_count": 10,
   "id": "4b72fa62",
   "metadata": {},
   "outputs": [],
   "source": [
    "def word_generator():\n",
    "    with open(\"wordlist.txt\", \"r\") as f:\n",
    "        lines = f.readlines()\n",
    "        print(lines)\n",
    "    f.close()\n",
    "    lines = [i.strip(\"\\n\") for i in lines]\n",
    "    return choice(lines)"
   ]
  },
  {
   "cell_type": "code",
   "execution_count": null,
   "id": "06112148",
   "metadata": {},
   "outputs": [],
   "source": [
    "word_generator()"
   ]
  },
  {
   "cell_type": "code",
   "execution_count": 11,
   "id": "9a5201a4",
   "metadata": {},
   "outputs": [
    {
     "name": "stdout",
     "output_type": "stream",
     "text": [
      "['python\\n', 'vizag\\n', 'bang \\n', 'mysore\\n', 'chennai\\n', 'pune\\n', 'noida\\n', 'Kerala\\n', 'Bangalore\\n', 'Mumbai']\n"
     ]
    },
    {
     "ename": "NameError",
     "evalue": "name 'choice' is not defined",
     "output_type": "error",
     "traceback": [
      "\u001b[0;31m---------------------------------------------------------------------------\u001b[0m",
      "\u001b[0;31mNameError\u001b[0m                                 Traceback (most recent call last)",
      "\u001b[0;32m/var/folders/jh/s7c0k4nd2qv00zmfklp28d3m0000gn/T/ipykernel_2030/1313459267.py\u001b[0m in \u001b[0;36m<module>\u001b[0;34m\u001b[0m\n\u001b[0;32m----> 1\u001b[0;31m \u001b[0mword\u001b[0m \u001b[0;34m=\u001b[0m \u001b[0mword_generator\u001b[0m\u001b[0;34m(\u001b[0m\u001b[0;34m)\u001b[0m\u001b[0;34m\u001b[0m\u001b[0;34m\u001b[0m\u001b[0m\n\u001b[0m\u001b[1;32m      2\u001b[0m \u001b[0mguessed\u001b[0m\u001b[0;34m=\u001b[0m \u001b[0;34m\"\"\u001b[0m\u001b[0;34m\u001b[0m\u001b[0;34m\u001b[0m\u001b[0m\n\u001b[1;32m      3\u001b[0m \u001b[0mturns\u001b[0m \u001b[0;34m=\u001b[0m \u001b[0mint\u001b[0m\u001b[0;34m(\u001b[0m\u001b[0mlen\u001b[0m\u001b[0;34m(\u001b[0m\u001b[0mword\u001b[0m\u001b[0;34m)\u001b[0m\u001b[0;34m*\u001b[0m\u001b[0;36m1.5\u001b[0m\u001b[0;34m)\u001b[0m\u001b[0;34m\u001b[0m\u001b[0;34m\u001b[0m\u001b[0m\n\u001b[1;32m      4\u001b[0m \u001b[0;32mwhile\u001b[0m\u001b[0;34m(\u001b[0m\u001b[0;32mTrue\u001b[0m\u001b[0;34m)\u001b[0m\u001b[0;34m:\u001b[0m\u001b[0;34m\u001b[0m\u001b[0;34m\u001b[0m\u001b[0m\n\u001b[1;32m      5\u001b[0m     \u001b[0mprint\u001b[0m\u001b[0;34m(\u001b[0m\u001b[0;34m\"you are left with {} turns\"\u001b[0m\u001b[0;34m.\u001b[0m\u001b[0mformat\u001b[0m\u001b[0;34m(\u001b[0m\u001b[0mturns\u001b[0m\u001b[0;34m)\u001b[0m\u001b[0;34m)\u001b[0m\u001b[0;34m\u001b[0m\u001b[0;34m\u001b[0m\u001b[0m\n",
      "\u001b[0;32m/var/folders/jh/s7c0k4nd2qv00zmfklp28d3m0000gn/T/ipykernel_2030/3499304391.py\u001b[0m in \u001b[0;36mword_generator\u001b[0;34m()\u001b[0m\n\u001b[1;32m      5\u001b[0m     \u001b[0mf\u001b[0m\u001b[0;34m.\u001b[0m\u001b[0mclose\u001b[0m\u001b[0;34m(\u001b[0m\u001b[0;34m)\u001b[0m\u001b[0;34m\u001b[0m\u001b[0;34m\u001b[0m\u001b[0m\n\u001b[1;32m      6\u001b[0m     \u001b[0mlines\u001b[0m \u001b[0;34m=\u001b[0m \u001b[0;34m[\u001b[0m\u001b[0mi\u001b[0m\u001b[0;34m.\u001b[0m\u001b[0mstrip\u001b[0m\u001b[0;34m(\u001b[0m\u001b[0;34m\"\\n\"\u001b[0m\u001b[0;34m)\u001b[0m \u001b[0;32mfor\u001b[0m \u001b[0mi\u001b[0m \u001b[0;32min\u001b[0m \u001b[0mlines\u001b[0m\u001b[0;34m]\u001b[0m\u001b[0;34m\u001b[0m\u001b[0;34m\u001b[0m\u001b[0m\n\u001b[0;32m----> 7\u001b[0;31m     \u001b[0;32mreturn\u001b[0m \u001b[0mchoice\u001b[0m\u001b[0;34m(\u001b[0m\u001b[0mlines\u001b[0m\u001b[0;34m)\u001b[0m\u001b[0;34m\u001b[0m\u001b[0;34m\u001b[0m\u001b[0m\n\u001b[0m",
      "\u001b[0;31mNameError\u001b[0m: name 'choice' is not defined"
     ]
    }
   ],
   "source": [
    "word = word_generator()\n",
    "guessed= \"\"\n",
    "turns = int(len(word)*1.5)\n",
    "while(True):\n",
    "    print(\"you are left with {} turns\".format(turns))\n",
    "    inp = input(\"\\nmake a guess : \")\n",
    "    turns = turns-1\n",
    "    if inp in word:\n",
    "        guessed = guessed + inp\n",
    "    unguessed_char = 0\n",
    "    for i in word:\n",
    "        if i in guessed:\n",
    "            print(i,end=\"\")\n",
    "        else:\n",
    "            unguessed_char +=1\n",
    "            print(\"*\",end=\"\")\n",
    "    if unguessed_char ==0:\n",
    "        print(\"\\nyou won\")\n",
    "        break\n",
    "    if turns==0:\n",
    "        print(\"\\ntoin toin toin ......you ran out\")\n",
    "        break"
   ]
  },
  {
   "cell_type": "code",
   "execution_count": null,
   "id": "33668a7e",
   "metadata": {},
   "outputs": [],
   "source": []
  }
 ],
 "metadata": {
  "kernelspec": {
   "display_name": "Python 3 (ipykernel)",
   "language": "python",
   "name": "python3"
  },
  "language_info": {
   "codemirror_mode": {
    "name": "ipython",
    "version": 3
   },
   "file_extension": ".py",
   "mimetype": "text/x-python",
   "name": "python",
   "nbconvert_exporter": "python",
   "pygments_lexer": "ipython3",
   "version": "3.9.6"
  }
 },
 "nbformat": 4,
 "nbformat_minor": 5
}
